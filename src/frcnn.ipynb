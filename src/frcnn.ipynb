{
 "cells": [
  {
   "cell_type": "markdown",
   "metadata": {},
   "source": [
    "# Analysis Overview\n",
    "\n",
    "This notebook includes a general overview of the dataset by (1) preparing your workspace to use the dataset in the COCO format, (2) visualizing a few images from one of the datasets for information purposes, and (3) conducting an analysis on modifications made to the Faster R-CNN model.  The dataset used is the SARscope dataset found at the below link.  The objective of this project is to determine whether proposed image processing methods would increase the performance of different models on Synthetic Aperture Radar data of maritime vessels.\n",
    "\n",
    "Dataset: https://www.kaggle.com/datasets/kailaspsudheer/sarscope-unveiling-the-maritime-landscape"
   ]
  },
  {
   "cell_type": "markdown",
   "metadata": {},
   "source": [
    "## Section 1 - Workspace Preparation\n",
    "\n",
    "To ensure that the user can run this notebook without issue, please do the following:\n",
    "\n",
    "1. Ensure your Python installtion is 3.8.10 or higher.\n",
    "2. You are using the pip3 package manager.\n",
    "3. Run the below installation steps. These are all the packages used in this notebook."
   ]
  },
  {
   "cell_type": "code",
   "execution_count": null,
   "metadata": {},
   "outputs": [],
   "source": [
    "%pip3 install torch\n",
    "%pip3 install torchvision\n",
    "%pip3 install torchmetrics\n",
    "%pip3 install kagglehub\n",
    "%pip3 install json\n",
    "%pip3 install matplotlib\n",
    "%pip3 install cv2\n",
    "%pip install pycocotools"
   ]
  },
  {
   "cell_type": "code",
   "execution_count": null,
   "metadata": {},
   "outputs": [],
   "source": [
    "# Utility Imports\n",
    "import os\n",
    "import pathlib\n",
    "\n",
    "# Data Handling Imports\n",
    "from DataLoader import SAR_DataLoader\n",
    "from WorkspaceManager import WorkspaceManager\n",
    "\n",
    "# Model Imports\n",
    "import torchvision\n",
    "\n",
    "project_path = pathlib.Path.cwd().parent.resolve()\n",
    "print(f\"Project path: {project_path}\")"
   ]
  },
  {
   "cell_type": "markdown",
   "metadata": {},
   "source": [
    "## Section 2 - Dataset Loading"
   ]
  },
  {
   "cell_type": "markdown",
   "metadata": {},
   "source": [
    "### Section 2.1: Note on Kagglehub\n",
    "\n",
    "Kagglehub does not natively support downloading to specific directories on the user's file system.  It instead downloads it to a cache folder, which may vary between users.  Thus, the below script moves all downloads will move the dataset folder to the included */data* folder in this repo.\n",
    "\n",
    "If you have an error, this is likely due to the `shutil.move()` command failing because it sees the dataset still cached.  To counteract this, `cd` into the cache directory that is printed in the output and delete the entire data folder.  Then run this block again.  See Section 2.2 and the below code block comments for additional information."
   ]
  },
  {
   "cell_type": "markdown",
   "metadata": {},
   "source": [
    "### Section 2.2: Deleting the Cache\n",
    "\n",
    "To re-download the dataset, you need to remove both the formatted folder in this repo's data directory (the *kaggle* folder) and the *kailaspsudheer* folder in the cache.\n",
    "\n",
    "I recommend you run the *WorkspaceManager* setup block below with *clear_cache* off first, then manually delete it if you need to.  After you know where your cache is and confirm it's deleting the right directory, you can turn it on."
   ]
  },
  {
   "cell_type": "code",
   "execution_count": null,
   "metadata": {},
   "outputs": [],
   "source": [
    "workspace_builder = WorkspaceManager()\n",
    "workspace_builder.run_setup()\n",
    "\n",
    "if not os.path.exists(workspace_builder._data_path):\n",
    "    raise FileNotFoundError(f\"Not able to find data directory at path: {workspace_builder._data_path}\")\n",
    "else:\n",
    "    print(f\"Using data path: {workspace_builder._data_path}\")"
   ]
  },
  {
   "cell_type": "markdown",
   "metadata": {},
   "source": [
    "## Section 3 - Data Visualization\n",
    "\n",
    "Below, we visualize a few randomly selected images throughout the validation dataset as examples of the different types of images the models will encounter and to ensure the annotations are working as expected.  All targets have the same category Id and category name: (1, \"ship\")."
   ]
  },
  {
   "cell_type": "code",
   "execution_count": null,
   "metadata": {},
   "outputs": [],
   "source": [
    "# Validation Path retrieval\n",
    "val_annotations = os.path.join(workspace_builder._data_path, \"annotations\", \"valid_annotations.coco.json\")\n",
    "val_images = os.path.join(workspace_builder._data_path, \"valid\")\n",
    "\n",
    "sarScope_valid = SAR_DataLoader(val_images, val_annotations)"
   ]
  },
  {
   "cell_type": "code",
   "execution_count": null,
   "metadata": {},
   "outputs": [],
   "source": [
    "# Display 3 randomly selected images throughout the validation dataset with their annotations.\n",
    "for i in range(3):\n",
    "    sarScope_valid._show_random_idx()"
   ]
  },
  {
   "cell_type": "markdown",
   "metadata": {},
   "source": [
    "## Section 4 - Faster R-CNN\n",
    "\n",
    "This section begins the analysis of different layer additions and modifications to the Faster R-CNN model.  Each section contains the following sub-sections for reference:\n",
    "\n",
    "1. Data Preparation\n",
    "2. Model Construction\n",
    "3. Training\n",
    "4. Testing & Analysis"
   ]
  },
  {
   "cell_type": "markdown",
   "metadata": {},
   "source": [
    "### Section 4.1 - Baseline FRCNN\n",
    "\n",
    "This section is to establish the baseline performance of an unmodified FRCNN model on our dataset."
   ]
  },
  {
   "cell_type": "markdown",
   "metadata": {},
   "source": [
    "#### Section 4.1.1 - Data Preparation"
   ]
  },
  {
   "cell_type": "code",
   "execution_count": null,
   "metadata": {},
   "outputs": [],
   "source": [
    "frcnn = torchvision.models.detection.fasterrcnn_resnet50_fpn()"
   ]
  }
 ],
 "metadata": {
  "kernelspec": {
   "display_name": "Python 3",
   "language": "python",
   "name": "python3"
  },
  "language_info": {
   "codemirror_mode": {
    "name": "ipython",
    "version": 3
   },
   "file_extension": ".py",
   "mimetype": "text/x-python",
   "name": "python",
   "nbconvert_exporter": "python",
   "pygments_lexer": "ipython3",
   "version": "3.8.10"
  }
 },
 "nbformat": 4,
 "nbformat_minor": 2
}
