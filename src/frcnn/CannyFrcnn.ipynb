{
 "cells": [
  {
   "cell_type": "markdown",
   "id": "008b35ab",
   "metadata": {},
   "source": [
    "# Section 5 - Canny FRCNN\n",
    "\n",
    "In this section, we utilize the OpenCV implementation of the Canny algorithm as a preprocessing layer to Faster-RCNN and analyze its performance.  Canny is a popular multi-stage edge detection algorithm designed to a) highlight the edges of all objects within an image and b) remove anything between different edges. \n",
    "\n",
    "In using this algorithm, we hypothesize that FRCNN will achieve better performance on more complex images since much of the noise of non-targets is removed and only the outline of the edges is considered.  By training on a ship's outline, which is relatively consistent regardless of ship sizes, we expect the model to identify targets in areas that previously had significant amounts of noise, such as docks, inclement weather, and other confusers.\n",
    "\n",
    "## 5.1 - Canny Overview\n",
    "\n",
    "The Canny pipeline includes three steps:\n",
    "\n",
    "1. **Noise Reduction**: Use Gaussian Blurring on the entire image to reduce noise surrounding edges that may lead to false positives.\n",
    "2. **Gradient Intensity**: It then uses the Sobel kernel (another Edge Detection method) in the X and Y directions to determine the gradient magnitude. Then it uses a formula to extract the gradient direction of individual pixels.\n",
    "3. **Non-Maximum Suppression**: Once edges are proposed, NMS is used to remove any pixels that may be a false positive edge.\n",
    "\n",
    "For more details on the Canny algorithm, OpenCV's documentation has a good explanation of the topic: https://docs.opencv.org/4.x/da/d22/tutorial_py_canny.html"
   ]
  },
  {
   "cell_type": "code",
   "execution_count": null,
   "id": "c6bcce39",
   "metadata": {},
   "outputs": [],
   "source": [
    "# Utility Imports\n",
    "import os, sys\n",
    "import pathlib\n",
    "import numpy as np\n",
    "import matplotlib.pyplot as plt\n",
    "import cv2\n",
    "\n",
    "project_path = pathlib.Path.cwd().parent.resolve().parent.resolve()\n",
    "print(f\"Project path: {project_path}\")\n",
    "\n",
    "sys.path.append(os.path.join(project_path, \"src\", \"frcnn\"))\n",
    "sys.path.append(os.path.join(project_path, \"src\", \"utils\"))\n",
    "\n",
    "# Data Handling Imports\n",
    "from SeaSarFRCNN import SeaSarFRCNN\n",
    "from ModelWorker import ModelWorkerFRCNN\n",
    "from WorkspaceManager import WorkspaceManager\n",
    "\n",
    "# Model and Model Utility Imports\n",
    "import torchvision\n",
    "import torch\n",
    "from frcnn_models import CannyFRCNN\n",
    "\n"
   ]
  },
  {
   "cell_type": "code",
   "execution_count": null,
   "id": "e3c3a2d0",
   "metadata": {},
   "outputs": [],
   "source": [
    "workspace_builder = WorkspaceManager()\n",
    "workspace_builder.run_setup()\n",
    "\n",
    "if not os.path.exists(workspace_builder._data_path):\n",
    "    raise FileNotFoundError(f\"Not able to find data directory at path: {workspace_builder._data_path}\")\n",
    "else:\n",
    "    print(f\"Using data path: {workspace_builder._data_path}\")"
   ]
  },
  {
   "cell_type": "markdown",
   "id": "6bb57ed7",
   "metadata": {},
   "source": [
    "## 5.2 - Data Analysis\n",
    "\n",
    "Below, we provide an example of how Canny can assist the detection models by remove noise and highlight ship outlines.  In the original image, targets are intermingled with what appears to be either inclement weather or some other noise type.  In the succeeding subplot, we can see those inclement weather spots are fully removed while the outline of the targets are retained."
   ]
  },
  {
   "cell_type": "code",
   "execution_count": null,
   "id": "69336323",
   "metadata": {},
   "outputs": [],
   "source": [
    "# Validation Path retrieval\n",
    "tester_transforms = torchvision.transforms.Compose([\n",
    "    torchvision.transforms.ToTensor()\n",
    "])\n",
    "train_annotations = os.path.join(workspace_builder._data_path, \"annotations\", \"train_annotations.coco.json\")\n",
    "train_images = os.path.join(workspace_builder._data_path, \"train\")\n",
    "\n",
    "train_data = SeaSarFRCNN(train_images, train_annotations, tester_transforms)"
   ]
  },
  {
   "cell_type": "code",
   "execution_count": null,
   "id": "20fd0707",
   "metadata": {},
   "outputs": [],
   "source": [
    "image, target = train_data._get_image(3270, True, True)"
   ]
  },
  {
   "cell_type": "code",
   "execution_count": null,
   "id": "ac285838",
   "metadata": {},
   "outputs": [],
   "source": [
    "gaussian_image = cv2.GaussianBlur(np.array(image), ksize=(5, 5), sigmaX=2.0)\n",
    "canny_image = cv2.Canny(gaussian_image, 200, 100)\n",
    "train_data.show_edited_subplot([image, gaussian_image, canny_image], [\"Original\", \"Gaussian Blurred\", \"Post-Canny\"], \"\", \"\")"
   ]
  },
  {
   "cell_type": "markdown",
   "id": "a2ca8701",
   "metadata": {},
   "source": [
    "### 5.2.1 - False Positives\n",
    "\n",
    "As shown in 5.3, setting the Canny thresholds to (200, 100) began yield positive results like the image above.  However, there are some drawbacks to using static threshold values. Setting the threshold too high can remove key target details or even entire targets. Using a value too small will not remove enough noise and can reduce model performance.  As we see in the below figures, (200, 100) is not a high enough threshold to clear much of the noise from the shoreline, inevitably leading to misclassifications."
   ]
  },
  {
   "cell_type": "code",
   "execution_count": null,
   "id": "6f612401",
   "metadata": {},
   "outputs": [],
   "source": [
    "image, target = train_data._get_image(2732, get_image=True)"
   ]
  },
  {
   "cell_type": "code",
   "execution_count": null,
   "id": "7a3d31e4",
   "metadata": {},
   "outputs": [],
   "source": [
    "gaussian_image = cv2.GaussianBlur(np.array(image), ksize=(5, 5), sigmaX=2.0)\n",
    "canny_image = cv2.Canny(gaussian_image, 200, 100)\n",
    "train_data.show_edited_subplot([image, gaussian_image, canny_image], [\"Original\", \"Gaussian Blurred\", \"Post-Canny\"], \"\", \"\")"
   ]
  },
  {
   "cell_type": "markdown",
   "id": "0ba72182",
   "metadata": {},
   "source": [
    "## Section 5.3 Model Construction and Training\n",
    "\n",
    "In this section, we build the CannyFRCNN model.  We use a 3x3 kernel and standard deviation of 1 for Gaussian Blurring. For Canny, using 200 or higher for threshold 1 and 100 or higher for threshold 2 began to show good results on most images as this is when noise began being filtered out. "
   ]
  },
  {
   "cell_type": "code",
   "execution_count": null,
   "id": "502bcf82",
   "metadata": {},
   "outputs": [],
   "source": [
    "# Set up train dataloader\n",
    "train_data = torchvision.datasets.wrap_dataset_for_transforms_v2(train_data, target_keys=(\"boxes\", \"labels\"))\n",
    "train_dataloader = torch.utils.data.DataLoader(train_data, batch_size=1, shuffle=True, collate_fn=train_data._packager)"
   ]
  },
  {
   "cell_type": "code",
   "execution_count": null,
   "id": "e713958c",
   "metadata": {},
   "outputs": [],
   "source": [
    "# Build the baseline model\n",
    "frcnn = torchvision.models.detection.fasterrcnn_resnet50_fpn(pretrained=True)\n",
    "input_features = frcnn.roi_heads.box_predictor.cls_score.in_features\n",
    "frcnn.roi_heads.box_predictor = torchvision.models.detection.faster_rcnn.FastRCNNPredictor(input_features, 2)\n",
    "\n",
    "# Build the loss function and optimizer\n",
    "optimizer = torch.optim.Adam(frcnn.parameters(), lr=0.001)"
   ]
  },
  {
   "cell_type": "code",
   "execution_count": null,
   "id": "6d168fef",
   "metadata": {},
   "outputs": [],
   "source": [
    "canny_model = CannyFRCNN(frcnn, 'cuda', (3, 3), 1.0, 200, 100)\n",
    "worker = ModelWorkerFRCNN(optimizer, canny_model, False)"
   ]
  },
  {
   "cell_type": "code",
   "execution_count": null,
   "id": "6942cf73",
   "metadata": {},
   "outputs": [],
   "source": [
    "worker.train(train_dataloader, num_epochs=1, indices_to_skip=[3736])"
   ]
  }
 ],
 "metadata": {
  "kernelspec": {
   "display_name": "Python 3",
   "language": "python",
   "name": "python3"
  },
  "language_info": {
   "codemirror_mode": {
    "name": "ipython",
    "version": 3
   },
   "file_extension": ".py",
   "mimetype": "text/x-python",
   "name": "python",
   "nbconvert_exporter": "python",
   "pygments_lexer": "ipython3",
   "version": "3.8.10"
  }
 },
 "nbformat": 4,
 "nbformat_minor": 5
}
